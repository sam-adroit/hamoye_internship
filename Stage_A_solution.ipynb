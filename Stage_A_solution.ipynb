{
 "cells": [
  {
   "cell_type": "code",
   "execution_count": 2,
   "source": [
    "import numpy as np\r\n",
    "import pandas as pd\r\n",
    "import matplotlib.pyplot as plt\r\n",
    "import seaborn as sns"
   ],
   "outputs": [],
   "metadata": {}
  },
  {
   "cell_type": "code",
   "execution_count": 3,
   "source": [
    "fuel_data = pd.read_csv(\"fuel_ferc1.csv\")"
   ],
   "outputs": [],
   "metadata": {}
  },
  {
   "cell_type": "markdown",
   "source": [
    "## __Which of the following fuel type code has the lowest average fuel cost per unit burned?__"
   ],
   "metadata": {}
  },
  {
   "cell_type": "code",
   "execution_count": 4,
   "source": [
    "fuel_data.groupby('fuel_type_code_pudl')['fuel_cost_per_unit_burned'].mean()"
   ],
   "outputs": [
    {
     "output_type": "execute_result",
     "data": {
      "text/plain": [
       "fuel_type_code_pudl\n",
       "coal         67.421830\n",
       "gas          13.659397\n",
       "nuclear    4955.157002\n",
       "oil         168.877086\n",
       "other        18.253856\n",
       "waste        19.518122\n",
       "Name: fuel_cost_per_unit_burned, dtype: float64"
      ]
     },
     "metadata": {},
     "execution_count": 4
    }
   ],
   "metadata": {}
  },
  {
   "cell_type": "markdown",
   "source": [
    "## __What is the standard deviation and 75th percentile of the measure of energy per unit (Fuel_mmbtu_per_unit) in two decimal places?__"
   ],
   "metadata": {}
  },
  {
   "cell_type": "code",
   "execution_count": 5,
   "source": [
    "fuel_data.describe()"
   ],
   "outputs": [
    {
     "output_type": "execute_result",
     "data": {
      "text/plain": [
       "       utility_id_ferc1   report_year  fuel_qty_burned  fuel_mmbtu_per_unit  \\\n",
       "count      29523.000000  29523.000000     2.952300e+04         29523.000000   \n",
       "mean         118.601836   2005.806050     2.622119e+06             8.492111   \n",
       "std           74.178353      7.025483     9.118004e+06            10.600220   \n",
       "min            1.000000   1994.000000     1.000000e+00             0.000001   \n",
       "25%           55.000000   2000.000000     1.381700e+04             1.024000   \n",
       "50%          122.000000   2006.000000     2.533220e+05             5.762694   \n",
       "75%          176.000000   2012.000000     1.424034e+06            17.006000   \n",
       "max          514.000000   2018.000000     5.558942e+08           341.260000   \n",
       "\n",
       "       fuel_cost_per_unit_burned  fuel_cost_per_unit_delivered  \\\n",
       "count               29523.000000                  2.952300e+04   \n",
       "mean                  208.649031                  9.175704e+02   \n",
       "std                  2854.490090                  6.877593e+04   \n",
       "min                  -276.080000                 -8.749370e+02   \n",
       "25%                     5.207000                  3.778500e+00   \n",
       "50%                    26.000000                  1.737100e+01   \n",
       "75%                    47.113000                  4.213700e+01   \n",
       "max                139358.000000                  7.964521e+06   \n",
       "\n",
       "       fuel_cost_per_mmbtu  \n",
       "count         29523.000000  \n",
       "mean             19.304354  \n",
       "std            2091.540939  \n",
       "min             -41.501000  \n",
       "25%               1.940000  \n",
       "50%               4.127000  \n",
       "75%               7.745000  \n",
       "max          359278.000000  "
      ],
      "text/html": [
       "<div>\n",
       "<style scoped>\n",
       "    .dataframe tbody tr th:only-of-type {\n",
       "        vertical-align: middle;\n",
       "    }\n",
       "\n",
       "    .dataframe tbody tr th {\n",
       "        vertical-align: top;\n",
       "    }\n",
       "\n",
       "    .dataframe thead th {\n",
       "        text-align: right;\n",
       "    }\n",
       "</style>\n",
       "<table border=\"1\" class=\"dataframe\">\n",
       "  <thead>\n",
       "    <tr style=\"text-align: right;\">\n",
       "      <th></th>\n",
       "      <th>utility_id_ferc1</th>\n",
       "      <th>report_year</th>\n",
       "      <th>fuel_qty_burned</th>\n",
       "      <th>fuel_mmbtu_per_unit</th>\n",
       "      <th>fuel_cost_per_unit_burned</th>\n",
       "      <th>fuel_cost_per_unit_delivered</th>\n",
       "      <th>fuel_cost_per_mmbtu</th>\n",
       "    </tr>\n",
       "  </thead>\n",
       "  <tbody>\n",
       "    <tr>\n",
       "      <th>count</th>\n",
       "      <td>29523.000000</td>\n",
       "      <td>29523.000000</td>\n",
       "      <td>2.952300e+04</td>\n",
       "      <td>29523.000000</td>\n",
       "      <td>29523.000000</td>\n",
       "      <td>2.952300e+04</td>\n",
       "      <td>29523.000000</td>\n",
       "    </tr>\n",
       "    <tr>\n",
       "      <th>mean</th>\n",
       "      <td>118.601836</td>\n",
       "      <td>2005.806050</td>\n",
       "      <td>2.622119e+06</td>\n",
       "      <td>8.492111</td>\n",
       "      <td>208.649031</td>\n",
       "      <td>9.175704e+02</td>\n",
       "      <td>19.304354</td>\n",
       "    </tr>\n",
       "    <tr>\n",
       "      <th>std</th>\n",
       "      <td>74.178353</td>\n",
       "      <td>7.025483</td>\n",
       "      <td>9.118004e+06</td>\n",
       "      <td>10.600220</td>\n",
       "      <td>2854.490090</td>\n",
       "      <td>6.877593e+04</td>\n",
       "      <td>2091.540939</td>\n",
       "    </tr>\n",
       "    <tr>\n",
       "      <th>min</th>\n",
       "      <td>1.000000</td>\n",
       "      <td>1994.000000</td>\n",
       "      <td>1.000000e+00</td>\n",
       "      <td>0.000001</td>\n",
       "      <td>-276.080000</td>\n",
       "      <td>-8.749370e+02</td>\n",
       "      <td>-41.501000</td>\n",
       "    </tr>\n",
       "    <tr>\n",
       "      <th>25%</th>\n",
       "      <td>55.000000</td>\n",
       "      <td>2000.000000</td>\n",
       "      <td>1.381700e+04</td>\n",
       "      <td>1.024000</td>\n",
       "      <td>5.207000</td>\n",
       "      <td>3.778500e+00</td>\n",
       "      <td>1.940000</td>\n",
       "    </tr>\n",
       "    <tr>\n",
       "      <th>50%</th>\n",
       "      <td>122.000000</td>\n",
       "      <td>2006.000000</td>\n",
       "      <td>2.533220e+05</td>\n",
       "      <td>5.762694</td>\n",
       "      <td>26.000000</td>\n",
       "      <td>1.737100e+01</td>\n",
       "      <td>4.127000</td>\n",
       "    </tr>\n",
       "    <tr>\n",
       "      <th>75%</th>\n",
       "      <td>176.000000</td>\n",
       "      <td>2012.000000</td>\n",
       "      <td>1.424034e+06</td>\n",
       "      <td>17.006000</td>\n",
       "      <td>47.113000</td>\n",
       "      <td>4.213700e+01</td>\n",
       "      <td>7.745000</td>\n",
       "    </tr>\n",
       "    <tr>\n",
       "      <th>max</th>\n",
       "      <td>514.000000</td>\n",
       "      <td>2018.000000</td>\n",
       "      <td>5.558942e+08</td>\n",
       "      <td>341.260000</td>\n",
       "      <td>139358.000000</td>\n",
       "      <td>7.964521e+06</td>\n",
       "      <td>359278.000000</td>\n",
       "    </tr>\n",
       "  </tbody>\n",
       "</table>\n",
       "</div>"
      ]
     },
     "metadata": {},
     "execution_count": 5
    }
   ],
   "metadata": {}
  },
  {
   "cell_type": "markdown",
   "source": [
    "## __What is the skewness and kurtosis for the fuel quantity burned in two decimal places?__"
   ],
   "metadata": {}
  },
  {
   "cell_type": "code",
   "execution_count": 6,
   "source": [
    "fuel_data['fuel_qty_burned'].skew()"
   ],
   "outputs": [
    {
     "output_type": "execute_result",
     "data": {
      "text/plain": [
       "15.851495469109503"
      ]
     },
     "metadata": {},
     "execution_count": 6
    }
   ],
   "metadata": {}
  },
  {
   "cell_type": "code",
   "execution_count": 7,
   "source": [
    "fuel_data['fuel_qty_burned'].kurt()"
   ],
   "outputs": [
    {
     "output_type": "execute_result",
     "data": {
      "text/plain": [
       "651.3694501337732"
      ]
     },
     "metadata": {},
     "execution_count": 7
    }
   ],
   "metadata": {}
  },
  {
   "cell_type": "markdown",
   "source": [
    "## __Which feature has missing values and what is the total number of missing value and percentage of the missing rows as a factor of the total number of rows in three decimal places?__\r\n",
    "\r\n",
    "### __(Enter answer in the format: Feature: xxx, Total: xxx, Percent: xxx)__"
   ],
   "metadata": {}
  },
  {
   "cell_type": "code",
   "execution_count": 8,
   "source": [
    "fuel_data.isnull().sum()"
   ],
   "outputs": [
    {
     "output_type": "execute_result",
     "data": {
      "text/plain": [
       "record_id                         0\n",
       "utility_id_ferc1                  0\n",
       "report_year                       0\n",
       "plant_name_ferc1                  0\n",
       "fuel_type_code_pudl               0\n",
       "fuel_unit                       180\n",
       "fuel_qty_burned                   0\n",
       "fuel_mmbtu_per_unit               0\n",
       "fuel_cost_per_unit_burned         0\n",
       "fuel_cost_per_unit_delivered      0\n",
       "fuel_cost_per_mmbtu               0\n",
       "dtype: int64"
      ]
     },
     "metadata": {},
     "execution_count": 8
    }
   ],
   "metadata": {}
  },
  {
   "cell_type": "code",
   "execution_count": 9,
   "source": [
    "total = fuel_data['fuel_unit'].count()"
   ],
   "outputs": [],
   "metadata": {}
  },
  {
   "cell_type": "code",
   "execution_count": 10,
   "source": [
    "percent = (180/ total)*100\r\n",
    "print(percent)"
   ],
   "outputs": [
    {
     "output_type": "stream",
     "name": "stdout",
     "text": [
      "0.6134342091810653\n"
     ]
    }
   ],
   "metadata": {}
  },
  {
   "cell_type": "markdown",
   "source": [
    "## __The feature with missing values falls under what category? What missing value imputation technique would you use?__"
   ],
   "metadata": {}
  },
  {
   "cell_type": "code",
   "execution_count": 11,
   "source": [
    "fuel_data[['fuel_unit']] = fuel_data[['fuel_unit']].fillna(value = 'mcf')"
   ],
   "outputs": [],
   "metadata": {}
  },
  {
   "cell_type": "code",
   "execution_count": 12,
   "source": [
    "fuel_data.isnull().sum()"
   ],
   "outputs": [
    {
     "output_type": "execute_result",
     "data": {
      "text/plain": [
       "record_id                       0\n",
       "utility_id_ferc1                0\n",
       "report_year                     0\n",
       "plant_name_ferc1                0\n",
       "fuel_type_code_pudl             0\n",
       "fuel_unit                       0\n",
       "fuel_qty_burned                 0\n",
       "fuel_mmbtu_per_unit             0\n",
       "fuel_cost_per_unit_burned       0\n",
       "fuel_cost_per_unit_delivered    0\n",
       "fuel_cost_per_mmbtu             0\n",
       "dtype: int64"
      ]
     },
     "metadata": {},
     "execution_count": 12
    }
   ],
   "metadata": {}
  },
  {
   "cell_type": "markdown",
   "source": [
    "## __Which of the features has the second and third lowest correlation with the Fuel Cost Per Unit Burned?__"
   ],
   "metadata": {}
  },
  {
   "cell_type": "code",
   "execution_count": 13,
   "source": [
    "fuel_data.corr()['fuel_cost_per_unit_burned'].sort_values(ascending = True)"
   ],
   "outputs": [
    {
     "output_type": "execute_result",
     "data": {
      "text/plain": [
       "utility_id_ferc1               -0.037863\n",
       "fuel_qty_burned                -0.018535\n",
       "fuel_mmbtu_per_unit            -0.010034\n",
       "fuel_cost_per_mmbtu            -0.000437\n",
       "fuel_cost_per_unit_delivered    0.011007\n",
       "report_year                     0.013599\n",
       "fuel_cost_per_unit_burned       1.000000\n",
       "Name: fuel_cost_per_unit_burned, dtype: float64"
      ]
     },
     "metadata": {},
     "execution_count": 13
    }
   ],
   "metadata": {}
  },
  {
   "cell_type": "markdown",
   "source": [
    "## __For the fuel type coal, what is the percentage change in the fuel cost per unit burned in 1998 compared to 1994?__"
   ],
   "metadata": {}
  },
  {
   "cell_type": "code",
   "execution_count": 15,
   "source": [
    "fuel_data.groupby(['fuel_type_code_pudl', 'report_year'])['fuel_cost_per_unit_burned'].aggregate('sum').unstack()"
   ],
   "outputs": [
    {
     "output_type": "execute_result",
     "data": {
      "text/plain": [
       "report_year                1994        1995       1996        1997  \\\n",
       "fuel_type_code_pudl                                                  \n",
       "coal                  14984.572   14571.785  12694.803   43742.178   \n",
       "gas                   10792.496    9087.905   1467.390    1518.471   \n",
       "nuclear              227983.354  384152.639  66657.887  112593.911   \n",
       "oil                    9362.194   17858.281   5357.028    5387.536   \n",
       "other                   116.737     183.577    160.075     153.923   \n",
       "waste                    52.762    -192.699     88.092     137.433   \n",
       "\n",
       "report_year                1998       1999        2000       2001       2002  \\\n",
       "fuel_type_code_pudl                                                            \n",
       "coal                  11902.597  16303.468  100428.831  15109.012   9171.164   \n",
       "gas                    7475.596  16767.895   10024.878  10360.348   3584.279   \n",
       "nuclear              117788.269  62915.808  112375.382  59292.078  59958.884   \n",
       "oil                    2608.657  29654.510  104055.470  95315.421  48956.627   \n",
       "other                   225.428    271.579     100.014     71.283     -4.257   \n",
       "waste                   238.109    143.025    -489.141    217.499    254.438   \n",
       "\n",
       "report_year               2003  ...        2009        2010        2011  \\\n",
       "fuel_type_code_pudl             ...                                       \n",
       "coal                 30954.110  ...   45554.858   88627.745   17001.015   \n",
       "gas                   7170.143  ...   11193.089    4240.494    3264.968   \n",
       "nuclear              59591.536  ...  172823.881  202133.032  229824.926   \n",
       "oil                  51349.250  ...   33068.327   35503.392  123477.065   \n",
       "other                  -51.286  ...     204.527     321.647      89.717   \n",
       "waste                  161.973  ...     739.884     755.157     517.912   \n",
       "\n",
       "report_year                2012        2013        2014        2015  \\\n",
       "fuel_type_code_pudl                                                   \n",
       "coal                  17546.097   17629.860   15412.197   13338.235   \n",
       "gas                    3420.876    2982.281    4169.285    6224.304   \n",
       "nuclear              240648.791  243192.226  229158.129  208830.486   \n",
       "oil                   59263.866   42336.964  268670.603   31038.094   \n",
       "other                   224.123     182.494       0.661       0.595   \n",
       "waste                   589.791     609.411     591.594     629.270   \n",
       "\n",
       "report_year                2016        2017        2018  \n",
       "fuel_type_code_pudl                                      \n",
       "coal                  11100.925   10254.284    9488.197  \n",
       "gas                    1994.266    4424.244    4322.494  \n",
       "nuclear              213837.559  197491.493  173267.161  \n",
       "oil                   28012.376   31935.723   33836.602  \n",
       "other                     0.609         NaN         NaN  \n",
       "waste                   539.079     452.079     660.972  \n",
       "\n",
       "[6 rows x 25 columns]"
      ],
      "text/html": [
       "<div>\n",
       "<style scoped>\n",
       "    .dataframe tbody tr th:only-of-type {\n",
       "        vertical-align: middle;\n",
       "    }\n",
       "\n",
       "    .dataframe tbody tr th {\n",
       "        vertical-align: top;\n",
       "    }\n",
       "\n",
       "    .dataframe thead th {\n",
       "        text-align: right;\n",
       "    }\n",
       "</style>\n",
       "<table border=\"1\" class=\"dataframe\">\n",
       "  <thead>\n",
       "    <tr style=\"text-align: right;\">\n",
       "      <th>report_year</th>\n",
       "      <th>1994</th>\n",
       "      <th>1995</th>\n",
       "      <th>1996</th>\n",
       "      <th>1997</th>\n",
       "      <th>1998</th>\n",
       "      <th>1999</th>\n",
       "      <th>2000</th>\n",
       "      <th>2001</th>\n",
       "      <th>2002</th>\n",
       "      <th>2003</th>\n",
       "      <th>...</th>\n",
       "      <th>2009</th>\n",
       "      <th>2010</th>\n",
       "      <th>2011</th>\n",
       "      <th>2012</th>\n",
       "      <th>2013</th>\n",
       "      <th>2014</th>\n",
       "      <th>2015</th>\n",
       "      <th>2016</th>\n",
       "      <th>2017</th>\n",
       "      <th>2018</th>\n",
       "    </tr>\n",
       "    <tr>\n",
       "      <th>fuel_type_code_pudl</th>\n",
       "      <th></th>\n",
       "      <th></th>\n",
       "      <th></th>\n",
       "      <th></th>\n",
       "      <th></th>\n",
       "      <th></th>\n",
       "      <th></th>\n",
       "      <th></th>\n",
       "      <th></th>\n",
       "      <th></th>\n",
       "      <th></th>\n",
       "      <th></th>\n",
       "      <th></th>\n",
       "      <th></th>\n",
       "      <th></th>\n",
       "      <th></th>\n",
       "      <th></th>\n",
       "      <th></th>\n",
       "      <th></th>\n",
       "      <th></th>\n",
       "      <th></th>\n",
       "    </tr>\n",
       "  </thead>\n",
       "  <tbody>\n",
       "    <tr>\n",
       "      <th>coal</th>\n",
       "      <td>14984.572</td>\n",
       "      <td>14571.785</td>\n",
       "      <td>12694.803</td>\n",
       "      <td>43742.178</td>\n",
       "      <td>11902.597</td>\n",
       "      <td>16303.468</td>\n",
       "      <td>100428.831</td>\n",
       "      <td>15109.012</td>\n",
       "      <td>9171.164</td>\n",
       "      <td>30954.110</td>\n",
       "      <td>...</td>\n",
       "      <td>45554.858</td>\n",
       "      <td>88627.745</td>\n",
       "      <td>17001.015</td>\n",
       "      <td>17546.097</td>\n",
       "      <td>17629.860</td>\n",
       "      <td>15412.197</td>\n",
       "      <td>13338.235</td>\n",
       "      <td>11100.925</td>\n",
       "      <td>10254.284</td>\n",
       "      <td>9488.197</td>\n",
       "    </tr>\n",
       "    <tr>\n",
       "      <th>gas</th>\n",
       "      <td>10792.496</td>\n",
       "      <td>9087.905</td>\n",
       "      <td>1467.390</td>\n",
       "      <td>1518.471</td>\n",
       "      <td>7475.596</td>\n",
       "      <td>16767.895</td>\n",
       "      <td>10024.878</td>\n",
       "      <td>10360.348</td>\n",
       "      <td>3584.279</td>\n",
       "      <td>7170.143</td>\n",
       "      <td>...</td>\n",
       "      <td>11193.089</td>\n",
       "      <td>4240.494</td>\n",
       "      <td>3264.968</td>\n",
       "      <td>3420.876</td>\n",
       "      <td>2982.281</td>\n",
       "      <td>4169.285</td>\n",
       "      <td>6224.304</td>\n",
       "      <td>1994.266</td>\n",
       "      <td>4424.244</td>\n",
       "      <td>4322.494</td>\n",
       "    </tr>\n",
       "    <tr>\n",
       "      <th>nuclear</th>\n",
       "      <td>227983.354</td>\n",
       "      <td>384152.639</td>\n",
       "      <td>66657.887</td>\n",
       "      <td>112593.911</td>\n",
       "      <td>117788.269</td>\n",
       "      <td>62915.808</td>\n",
       "      <td>112375.382</td>\n",
       "      <td>59292.078</td>\n",
       "      <td>59958.884</td>\n",
       "      <td>59591.536</td>\n",
       "      <td>...</td>\n",
       "      <td>172823.881</td>\n",
       "      <td>202133.032</td>\n",
       "      <td>229824.926</td>\n",
       "      <td>240648.791</td>\n",
       "      <td>243192.226</td>\n",
       "      <td>229158.129</td>\n",
       "      <td>208830.486</td>\n",
       "      <td>213837.559</td>\n",
       "      <td>197491.493</td>\n",
       "      <td>173267.161</td>\n",
       "    </tr>\n",
       "    <tr>\n",
       "      <th>oil</th>\n",
       "      <td>9362.194</td>\n",
       "      <td>17858.281</td>\n",
       "      <td>5357.028</td>\n",
       "      <td>5387.536</td>\n",
       "      <td>2608.657</td>\n",
       "      <td>29654.510</td>\n",
       "      <td>104055.470</td>\n",
       "      <td>95315.421</td>\n",
       "      <td>48956.627</td>\n",
       "      <td>51349.250</td>\n",
       "      <td>...</td>\n",
       "      <td>33068.327</td>\n",
       "      <td>35503.392</td>\n",
       "      <td>123477.065</td>\n",
       "      <td>59263.866</td>\n",
       "      <td>42336.964</td>\n",
       "      <td>268670.603</td>\n",
       "      <td>31038.094</td>\n",
       "      <td>28012.376</td>\n",
       "      <td>31935.723</td>\n",
       "      <td>33836.602</td>\n",
       "    </tr>\n",
       "    <tr>\n",
       "      <th>other</th>\n",
       "      <td>116.737</td>\n",
       "      <td>183.577</td>\n",
       "      <td>160.075</td>\n",
       "      <td>153.923</td>\n",
       "      <td>225.428</td>\n",
       "      <td>271.579</td>\n",
       "      <td>100.014</td>\n",
       "      <td>71.283</td>\n",
       "      <td>-4.257</td>\n",
       "      <td>-51.286</td>\n",
       "      <td>...</td>\n",
       "      <td>204.527</td>\n",
       "      <td>321.647</td>\n",
       "      <td>89.717</td>\n",
       "      <td>224.123</td>\n",
       "      <td>182.494</td>\n",
       "      <td>0.661</td>\n",
       "      <td>0.595</td>\n",
       "      <td>0.609</td>\n",
       "      <td>NaN</td>\n",
       "      <td>NaN</td>\n",
       "    </tr>\n",
       "    <tr>\n",
       "      <th>waste</th>\n",
       "      <td>52.762</td>\n",
       "      <td>-192.699</td>\n",
       "      <td>88.092</td>\n",
       "      <td>137.433</td>\n",
       "      <td>238.109</td>\n",
       "      <td>143.025</td>\n",
       "      <td>-489.141</td>\n",
       "      <td>217.499</td>\n",
       "      <td>254.438</td>\n",
       "      <td>161.973</td>\n",
       "      <td>...</td>\n",
       "      <td>739.884</td>\n",
       "      <td>755.157</td>\n",
       "      <td>517.912</td>\n",
       "      <td>589.791</td>\n",
       "      <td>609.411</td>\n",
       "      <td>591.594</td>\n",
       "      <td>629.270</td>\n",
       "      <td>539.079</td>\n",
       "      <td>452.079</td>\n",
       "      <td>660.972</td>\n",
       "    </tr>\n",
       "  </tbody>\n",
       "</table>\n",
       "<p>6 rows × 25 columns</p>\n",
       "</div>"
      ]
     },
     "metadata": {},
     "execution_count": 15
    }
   ],
   "metadata": {}
  },
  {
   "cell_type": "markdown",
   "source": [
    "## __Which year has the highest average fuel cost per unit delivered?__"
   ],
   "metadata": {}
  },
  {
   "cell_type": "code",
   "execution_count": 16,
   "source": [
    "fuel_data.groupby('report_year')['fuel_cost_per_unit_delivered'].mean().sort_values(ascending = True)"
   ],
   "outputs": [
    {
     "output_type": "execute_result",
     "data": {
      "text/plain": [
       "report_year\n",
       "1999       25.551627\n",
       "1995       32.735269\n",
       "2006       38.657484\n",
       "2005       41.438184\n",
       "2007       43.325023\n",
       "2017       46.196861\n",
       "2002       47.594361\n",
       "2003       55.663493\n",
       "2008       58.588197\n",
       "2011       59.774667\n",
       "2001       60.050396\n",
       "2012       60.994502\n",
       "1994       63.636060\n",
       "2010       91.862105\n",
       "2016      103.901761\n",
       "2004      139.524275\n",
       "2013      172.307591\n",
       "2014      192.737183\n",
       "1998      287.154420\n",
       "2015      326.535511\n",
       "2018      499.269966\n",
       "2009      652.694163\n",
       "2000      985.362877\n",
       "1996     9196.705948\n",
       "1997    11140.197239\n",
       "Name: fuel_cost_per_unit_delivered, dtype: float64"
      ]
     },
     "metadata": {},
     "execution_count": 16
    }
   ],
   "metadata": {}
  }
 ],
 "metadata": {
  "orig_nbformat": 4,
  "language_info": {
   "name": "python",
   "version": "3.9.0",
   "mimetype": "text/x-python",
   "codemirror_mode": {
    "name": "ipython",
    "version": 3
   },
   "pygments_lexer": "ipython3",
   "nbconvert_exporter": "python",
   "file_extension": ".py"
  },
  "kernelspec": {
   "name": "python3",
   "display_name": "Python 3.9.0 64-bit"
  },
  "interpreter": {
   "hash": "fd67682649a3cff2c645e2e6349c00266395a392606c8e47dabad755e46a4e4e"
  }
 },
 "nbformat": 4,
 "nbformat_minor": 2
}